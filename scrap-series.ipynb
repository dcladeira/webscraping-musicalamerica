{
 "cells": [
  {
   "cell_type": "code",
   "execution_count": 18,
   "metadata": {},
   "outputs": [],
   "source": [
    "from selenium import webdriver\n",
    "from selenium.webdriver.common.by import By\n",
    "from selenium.webdriver.support.ui import WebDriverWait\n",
    "from selenium.webdriver.support.relative_locator import locate_with\n",
    "\n",
    "import pandas as pd\n",
    "\n",
    "import warnings\n",
    "warnings.filterwarnings('ignore')"
   ]
  },
  {
   "cell_type": "code",
   "execution_count": 3,
   "metadata": {},
   "outputs": [],
   "source": [
    "# Output dataframe\n",
    "df = pd.DataFrame({'Name:':[],\n",
    "                    'Phone:':[],\n",
    "                    'e-mail:':[],\n",
    "                    'Web:':[],\n",
    "                    'Manager(s):':[],\n",
    "                    'Other Pers.:':[],\n",
    "                    'Attractions:':[],\n",
    "                    'Aud. Cap.:':[],\n",
    "                    'Artist Budget:':[],\n",
    "                    'Events:':[]})"
   ]
  },
  {
   "cell_type": "code",
   "execution_count": 6,
   "metadata": {},
   "outputs": [],
   "source": [
    "# Access website\n",
    "driver = webdriver.Chrome()\n",
    "driver.get(\"https://www.musicalamerica.com/datalistings/index.cfm\")\n",
    "driver.minimize_window()"
   ]
  },
  {
   "cell_type": "code",
   "execution_count": 7,
   "metadata": {},
   "outputs": [],
   "source": [
    "# Select \"US/Canada Performing Arts Series\" option\n",
    "driver.find_element(By.ID, 't3').click()\n",
    "driver.find_element(By.XPATH , '/html/body/div[6]/div/div[1]/div/div/div[4]/div/div[2]/div[1]/div[2]/input[5]').click()\n",
    "driver.find_element(By.XPATH , '/html/body/div[6]/div/div[1]/div/div/div[4]/div/div[2]/div[7]/div/form/div[9]/input[1]').click()"
   ]
  },
  {
   "cell_type": "code",
   "execution_count": 19,
   "metadata": {},
   "outputs": [],
   "source": [
    "# Subscriber login\n",
    "username = input(\"Username: \")\n",
    "password = input(\"Password: \")\n",
    "driver.find_element(By.NAME, 'username').send_keys(username)\n",
    "driver.find_element(By.NAME, 'password').send_keys(password)\n",
    "driver.find_element(locate_with(By.NAME, 'submit').below({By.NAME: 'password'})).click()"
   ]
  },
  {
   "cell_type": "code",
   "execution_count": null,
   "metadata": {},
   "outputs": [],
   "source": [
    "# Show the number of musicals found and the number of pages that will be extracted \n",
    "qty_result = int(driver.find_element(By.XPATH, '/html/body/div[6]/div/div[1]/div/div/div[4]/div/div[3]/div[2]').text.split(\" \")[-1])\n",
    "total_pages = qty_result // 10 + 1\n",
    "print(qty_result, total_pages)"
   ]
  },
  {
   "cell_type": "code",
   "execution_count": null,
   "metadata": {},
   "outputs": [],
   "source": [
    "# Extract information from the first to the penultimate page\n",
    "for p in range(total_pages - 1):\n",
    "    if p == 0:\n",
    "        xpath_next = \"/html/body/div[6]/div/div[1]/div/div/div[4]/div/div[3]/div[4]/form/input[14]\"\n",
    "    else:\n",
    "        xpath_next = \"/html/body/div[6]/div/div[1]/div/div/div[4]/div/div[3]/div[4]/form/input[15]\"\n",
    "    WebDriverWait(driver, timeout=10).until(lambda x: x.find_element(By.XPATH, xpath_next))\n",
    "    result = driver.find_element(By.ID, 'usperf_results')\n",
    "    row_dict = {'Name:': '',\n",
    "        'Phone:': '',\n",
    "        'e-mail:': '',\n",
    "        'Web:': '',\n",
    "        'Manager(s):': '',\n",
    "        'Other Pers.:': '',\n",
    "        'Attractions:': '',\n",
    "        'Aud. Cap.:': '',\n",
    "        'Artist Budget:': '',\n",
    "        'Events:': ''}\n",
    "    titles = result.find_elements(By.TAG_NAME, 'strong')\n",
    "    for title in titles:\n",
    "        row_dict['Name:'] = title.text\n",
    "        parent = title.find_elements(By.XPATH, './../..')\n",
    "        datarow = parent[0].find_elements(By.ID, 'datarow')\n",
    "        for data in datarow:\n",
    "            indice = data.find_element(By.ID, 'leftlabel2').text\n",
    "            valor = data.find_element(By.ID, 'rightdata').text.replace('\\n', ', ')\n",
    "            row_dict[indice] = valor\n",
    "        df = df.append(row_dict, ignore_index=True, sort=False)\n",
    "    driver.find_element(By.XPATH, xpath_next).click()"
   ]
  },
  {
   "cell_type": "code",
   "execution_count": null,
   "metadata": {},
   "outputs": [],
   "source": [
    "# Extract information from de last page\n",
    "result = driver.find_element(By.ID, 'usperf_results')\n",
    "row_dict = {'Name:': '',\n",
    "    'Phone:': '',\n",
    "    'e-mail:': '',\n",
    "    'Web:': '',\n",
    "    'Manager(s):': '',\n",
    "    'Other Pers.:': '',\n",
    "    'Attractions:': '',\n",
    "    'Aud. Cap.:': '',\n",
    "    'Artist Budget:': '',\n",
    "    'Events:': ''}\n",
    "titles = result.find_elements(By.TAG_NAME, 'strong')\n",
    "for title in titles:\n",
    "    row_dict['Name:'] = title.text\n",
    "    parent = title.find_elements(By.XPATH, './../..')\n",
    "    datarow = parent[0].find_elements(By.ID, 'datarow')\n",
    "    for data in datarow:\n",
    "        indice = data.find_element(By.ID, 'leftlabel2').text\n",
    "        valor = data.find_element(By.ID, 'rightdata').text.replace('\\n', ', ')\n",
    "        row_dict[indice] = valor\n",
    "    df = df.append(row_dict, ignore_index=True, sort=False)\n",
    "driver.close()"
   ]
  },
  {
   "cell_type": "code",
   "execution_count": null,
   "metadata": {},
   "outputs": [],
   "source": [
    "# Show result\n",
    "df"
   ]
  },
  {
   "cell_type": "code",
   "execution_count": null,
   "metadata": {},
   "outputs": [],
   "source": [
    "# Export result\n",
    "df.to_excel('performing_arts_series.xlsx')"
   ]
  }
 ],
 "metadata": {
  "kernelspec": {
   "display_name": "base",
   "language": "python",
   "name": "python3"
  },
  "language_info": {
   "codemirror_mode": {
    "name": "ipython",
    "version": 3
   },
   "file_extension": ".py",
   "mimetype": "text/x-python",
   "name": "python",
   "nbconvert_exporter": "python",
   "pygments_lexer": "ipython3",
   "version": "3.10.9"
  },
  "orig_nbformat": 4
 },
 "nbformat": 4,
 "nbformat_minor": 2
}
